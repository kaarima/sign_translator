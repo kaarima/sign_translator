{
 "cells": [
  {
   "cell_type": "code",
   "execution_count": 7,
   "id": "ba148fe6",
   "metadata": {},
   "outputs": [
    {
     "name": "stderr",
     "output_type": "stream",
     "text": [
      "c:\\Users\\karima\\anaconda3\\envs\\signlang\\lib\\site-packages\\keras\\src\\layers\\convolutional\\base_conv.py:113: UserWarning: Do not pass an `input_shape`/`input_dim` argument to a layer. When using Sequential models, prefer using an `Input(shape)` object as the first layer in the model instead.\n",
      "  super().__init__(activity_regularizer=activity_regularizer, **kwargs)\n"
     ]
    },
    {
     "name": "stdout",
     "output_type": "stream",
     "text": [
      "Epoch 1/10\n",
      "\u001b[1m429/429\u001b[0m \u001b[32m━━━━━━━━━━━━━━━━━━━━\u001b[0m\u001b[37m\u001b[0m \u001b[1m11s\u001b[0m 18ms/step - accuracy: 0.3994 - loss: 2.0648 - val_accuracy: 0.8387 - val_loss: 0.5101\n",
      "Epoch 2/10\n",
      "\u001b[1m429/429\u001b[0m \u001b[32m━━━━━━━━━━━━━━━━━━━━\u001b[0m\u001b[37m\u001b[0m \u001b[1m8s\u001b[0m 19ms/step - accuracy: 0.9091 - loss: 0.2876 - val_accuracy: 0.8837 - val_loss: 0.3396\n",
      "Epoch 3/10\n",
      "\u001b[1m429/429\u001b[0m \u001b[32m━━━━━━━━━━━━━━━━━━━━\u001b[0m\u001b[37m\u001b[0m \u001b[1m8s\u001b[0m 19ms/step - accuracy: 0.9635 - loss: 0.1190 - val_accuracy: 0.9180 - val_loss: 0.2436\n",
      "Epoch 4/10\n",
      "\u001b[1m429/429\u001b[0m \u001b[32m━━━━━━━━━━━━━━━━━━━━\u001b[0m\u001b[37m\u001b[0m \u001b[1m8s\u001b[0m 18ms/step - accuracy: 0.9801 - loss: 0.0644 - val_accuracy: 0.9343 - val_loss: 0.2076\n",
      "Epoch 5/10\n",
      "\u001b[1m429/429\u001b[0m \u001b[32m━━━━━━━━━━━━━━━━━━━━\u001b[0m\u001b[37m\u001b[0m \u001b[1m8s\u001b[0m 20ms/step - accuracy: 0.9872 - loss: 0.0442 - val_accuracy: 0.9431 - val_loss: 0.1982\n",
      "Epoch 6/10\n",
      "\u001b[1m429/429\u001b[0m \u001b[32m━━━━━━━━━━━━━━━━━━━━\u001b[0m\u001b[37m\u001b[0m \u001b[1m17s\u001b[0m 41ms/step - accuracy: 0.9920 - loss: 0.0308 - val_accuracy: 0.9398 - val_loss: 0.1865\n",
      "Epoch 7/10\n",
      "\u001b[1m429/429\u001b[0m \u001b[32m━━━━━━━━━━━━━━━━━━━━\u001b[0m\u001b[37m\u001b[0m \u001b[1m22s\u001b[0m 51ms/step - accuracy: 0.9943 - loss: 0.0219 - val_accuracy: 0.9384 - val_loss: 0.2120\n",
      "Epoch 8/10\n",
      "\u001b[1m429/429\u001b[0m \u001b[32m━━━━━━━━━━━━━━━━━━━━\u001b[0m\u001b[37m\u001b[0m \u001b[1m14s\u001b[0m 33ms/step - accuracy: 0.9937 - loss: 0.0198 - val_accuracy: 0.9152 - val_loss: 0.3389\n",
      "Epoch 9/10\n",
      "\u001b[1m429/429\u001b[0m \u001b[32m━━━━━━━━━━━━━━━━━━━━\u001b[0m\u001b[37m\u001b[0m \u001b[1m8s\u001b[0m 20ms/step - accuracy: 0.9952 - loss: 0.0171 - val_accuracy: 0.9414 - val_loss: 0.2152\n",
      "Epoch 10/10\n",
      "\u001b[1m429/429\u001b[0m \u001b[32m━━━━━━━━━━━━━━━━━━━━\u001b[0m\u001b[37m\u001b[0m \u001b[1m7s\u001b[0m 17ms/step - accuracy: 0.9950 - loss: 0.0168 - val_accuracy: 0.9484 - val_loss: 0.1976\n",
      "225/225 - 1s - 4ms/step - accuracy: 0.9484 - loss: 0.1976\n"
     ]
    },
    {
     "name": "stderr",
     "output_type": "stream",
     "text": [
      "WARNING:absl:You are saving your model as an HDF5 file via `model.save()` or `keras.saving.save_model(model)`. This file format is considered legacy. We recommend using instead the native Keras format, e.g. `model.save('my_model.keras')` or `keras.saving.save_model(model, 'my_model.keras')`. \n"
     ]
    },
    {
     "name": "stdout",
     "output_type": "stream",
     "text": [
      "✅ Test accuracy: 94.84%\n"
     ]
    }
   ],
   "source": [
    "# 01_train_model.ipynb\n",
    "\n",
    "# 📦 1. Import Libraries\n",
    "import pandas as pd\n",
    "import numpy as np\n",
    "import matplotlib.pyplot as plt\n",
    "import tensorflow as tf\n",
    "from tensorflow.keras.models import Sequential\n",
    "from tensorflow.keras.layers import Conv2D, MaxPooling2D, Flatten, Dense, Dropout\n",
    "from sklearn.preprocessing import LabelBinarizer\n",
    "import string\n",
    "\n",
    "# 📁 2. Load Dataset\n",
    "train_df = pd.read_csv('data/sign_mnist_train.csv')\n",
    "test_df = pd.read_csv('data/sign_mnist_test.csv')\n",
    "\n",
    "# 🧹 3. Prepare Data\n",
    "X_train = train_df.drop('label', axis=1).values.reshape(-1, 28, 28, 1) / 255.0\n",
    "y_train = train_df['label'].values\n",
    "\n",
    "X_test = test_df.drop('label', axis=1).values.reshape(-1, 28, 28, 1) / 255.0\n",
    "y_test = test_df['label'].values\n",
    "\n",
    "# 🔤 4. One-Hot Encode Labels\n",
    "lb = LabelBinarizer()\n",
    "y_train = lb.fit_transform(y_train)\n",
    "y_test = lb.transform(y_test)\n",
    "\n",
    "# 🧠 5. Define CNN Model\n",
    "model = Sequential([\n",
    "    Conv2D(32, (3,3), activation='relu', input_shape=(28,28,1)),\n",
    "    MaxPooling2D(2,2),\n",
    "    Conv2D(64, (3,3), activation='relu'),\n",
    "    MaxPooling2D(2,2),\n",
    "    Flatten(),\n",
    "    Dropout(0.5),\n",
    "    Dense(128, activation='relu'),\n",
    "    Dense(24, activation='softmax')  # 24 classes (A-Y without J/Z)\n",
    "])\n",
    "\n",
    "# ⚙️ 6. Compile\n",
    "model.compile(optimizer='adam', loss='categorical_crossentropy', metrics=['accuracy'])\n",
    "\n",
    "# 🏋️ 7. Train\n",
    "history = model.fit(X_train, y_train, epochs=10, batch_size=64, validation_data=(X_test, y_test))\n",
    "test_loss, test_acc = model.evaluate(X_test, y_test, verbose=2)\n",
    "print(f\"✅ Test accuracy: {test_acc * 100:.2f}%\")\n",
    "\n",
    "\n",
    "# 💾 8. Save Model\n",
    "model.save('models/cnn_model.h5')\n"
   ]
  }
 ],
 "metadata": {
  "kernelspec": {
   "display_name": "signlang",
   "language": "python",
   "name": "python3"
  },
  "language_info": {
   "codemirror_mode": {
    "name": "ipython",
    "version": 3
   },
   "file_extension": ".py",
   "mimetype": "text/x-python",
   "name": "python",
   "nbconvert_exporter": "python",
   "pygments_lexer": "ipython3",
   "version": "3.10.16"
  }
 },
 "nbformat": 4,
 "nbformat_minor": 5
}
